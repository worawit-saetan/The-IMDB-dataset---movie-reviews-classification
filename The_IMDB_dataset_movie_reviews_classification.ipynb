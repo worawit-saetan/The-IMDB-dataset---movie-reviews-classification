{
  "nbformat": 4,
  "nbformat_minor": 0,
  "metadata": {
    "colab": {
      "provenance": [],
      "authorship_tag": "ABX9TyO7IPyL2a5jQYsLl8RN+JIi",
      "include_colab_link": true
    },
    "kernelspec": {
      "name": "python3",
      "display_name": "Python 3"
    },
    "language_info": {
      "name": "python"
    },
    "accelerator": "GPU"
  },
  "cells": [
    {
      "cell_type": "markdown",
      "metadata": {
        "id": "view-in-github",
        "colab_type": "text"
      },
      "source": [
        "<a href=\"https://colab.research.google.com/github/worawit-saetan/The-IMDB-dataset---movie-reviews-classification/blob/main/The_IMDB_dataset_movie_reviews_classification.ipynb\" target=\"_parent\"><img src=\"https://colab.research.google.com/assets/colab-badge.svg\" alt=\"Open In Colab\"/></a>"
      ]
    },
    {
      "cell_type": "markdown",
      "source": [
        "#This project is to classify movie reviews as positive or negative (a binary classification) by using the IMDB dataset from Keras. \n",
        "\n",
        "The outline of this project is as follows\n",
        "\n",
        "*   load the IMDB dataset\n",
        "*   encode X_train , X_test into binary vector\n",
        "*   create deep neural network model\n",
        "*   train and validate the model\n",
        "*   plot the accuracy and loss of the model\n",
        "\n"
      ],
      "metadata": {
        "id": "87hDshXCKXGU"
      }
    },
    {
      "cell_type": "markdown",
      "source": [
        "download the IMDB dataset form Keras datasets, where the dataset is the lists of reviews and contains 50,000 examples.\n",
        "\n",
        "the training data contains 25,000 examples \n",
        "\n",
        "the test data contains 25,000 examples"
      ],
      "metadata": {
        "id": "6mTMzA0IIo72"
      }
    },
    {
      "cell_type": "code",
      "execution_count": null,
      "metadata": {
        "id": "ukEPXpLtGdkN"
      },
      "outputs": [],
      "source": [
        "from keras.datasets import imdb\n",
        "(train_data, train_labels), (test_data, test_labels) = imdb.load_data(\n",
        "num_words=10000)"
      ]
    },
    {
      "cell_type": "code",
      "source": [
        "print(train_data.shape)\n",
        "print(train_labels.shape)\n",
        "print(test_data.shape)\n",
        "print(test_labels.shape)"
      ],
      "metadata": {
        "colab": {
          "base_uri": "https://localhost:8080/"
        },
        "id": "ik-otdTbHU-R",
        "outputId": "1a9982c8-3c2a-4a40-fa3c-c2b7e6bbb83e"
      },
      "execution_count": null,
      "outputs": [
        {
          "output_type": "stream",
          "name": "stdout",
          "text": [
            "(25000,)\n",
            "(25000,)\n",
            "(25000,)\n",
            "(25000,)\n"
          ]
        }
      ]
    },
    {
      "cell_type": "markdown",
      "source": [
        "each review is  a list of word indices (encoding a sequence of words)."
      ],
      "metadata": {
        "id": "0gYNHl_VJTDl"
      }
    },
    {
      "cell_type": "code",
      "source": [
        "print(train_data[0])"
      ],
      "metadata": {
        "colab": {
          "base_uri": "https://localhost:8080/"
        },
        "id": "SJj1z_2-HMl7",
        "outputId": "1ff16759-75a5-4982-f126-f38f19e6c9aa"
      },
      "execution_count": null,
      "outputs": [
        {
          "output_type": "stream",
          "name": "stdout",
          "text": [
            "[1, 14, 22, 16, 43, 530, 973, 1622, 1385, 65, 458, 4468, 66, 3941, 4, 173, 36, 256, 5, 25, 100, 43, 838, 112, 50, 670, 2, 9, 35, 480, 284, 5, 150, 4, 172, 112, 167, 2, 336, 385, 39, 4, 172, 4536, 1111, 17, 546, 38, 13, 447, 4, 192, 50, 16, 6, 147, 2025, 19, 14, 22, 4, 1920, 4613, 469, 4, 22, 71, 87, 12, 16, 43, 530, 38, 76, 15, 13, 1247, 4, 22, 17, 515, 17, 12, 16, 626, 18, 2, 5, 62, 386, 12, 8, 316, 8, 106, 5, 4, 2223, 5244, 16, 480, 66, 3785, 33, 4, 130, 12, 16, 38, 619, 5, 25, 124, 51, 36, 135, 48, 25, 1415, 33, 6, 22, 12, 215, 28, 77, 52, 5, 14, 407, 16, 82, 2, 8, 4, 107, 117, 5952, 15, 256, 4, 2, 7, 3766, 5, 723, 36, 71, 43, 530, 476, 26, 400, 317, 46, 7, 4, 2, 1029, 13, 104, 88, 4, 381, 15, 297, 98, 32, 2071, 56, 26, 141, 6, 194, 7486, 18, 4, 226, 22, 21, 134, 476, 26, 480, 5, 144, 30, 5535, 18, 51, 36, 28, 224, 92, 25, 104, 4, 226, 65, 16, 38, 1334, 88, 12, 16, 283, 5, 16, 4472, 113, 103, 32, 15, 16, 5345, 19, 178, 32]\n"
          ]
        }
      ]
    },
    {
      "cell_type": "markdown",
      "source": [
        "train_labels is list of 0s and 1s, where 0 stands for negative and 1 stands for postive."
      ],
      "metadata": {
        "id": "GF3lVaIEKO4l"
      }
    },
    {
      "cell_type": "code",
      "source": [
        "train_labels[0]"
      ],
      "metadata": {
        "colab": {
          "base_uri": "https://localhost:8080/"
        },
        "id": "Tf0VtQOLH38R",
        "outputId": "d4999ab0-ba4d-4302-89d9-6e8d972ab44f"
      },
      "execution_count": null,
      "outputs": [
        {
          "output_type": "execute_result",
          "data": {
            "text/plain": [
              "1"
            ]
          },
          "metadata": {},
          "execution_count": 6
        }
      ]
    },
    {
      "cell_type": "markdown",
      "source": [
        "Because we’re restricting to the top 10,000 most frequent words, no word\n",
        "index will exceed 10,000"
      ],
      "metadata": {
        "id": "mIrIEwAFKijZ"
      }
    },
    {
      "cell_type": "code",
      "source": [
        "max([max(sequence) for sequence in train_data])"
      ],
      "metadata": {
        "colab": {
          "base_uri": "https://localhost:8080/"
        },
        "id": "joMijogcIEFf",
        "outputId": "9d11f802-f349-4adf-edc0-d49b0a53177d"
      },
      "execution_count": null,
      "outputs": [
        {
          "output_type": "execute_result",
          "data": {
            "text/plain": [
              "9999"
            ]
          },
          "metadata": {},
          "execution_count": 7
        }
      ]
    },
    {
      "cell_type": "markdown",
      "source": [
        "Create the reverse word index from the given word index\n",
        "\n",
        "Then use it to decode some reviews "
      ],
      "metadata": {
        "id": "jB95Y5AXMQE4"
      }
    },
    {
      "cell_type": "code",
      "source": [
        "word_index = imdb.get_word_index()\n",
        "reverse_word_index = dict(\n",
        "[(value, key) for (key, value) in word_index.items()])"
      ],
      "metadata": {
        "id": "f1iLkdDVIKM_"
      },
      "execution_count": null,
      "outputs": []
    },
    {
      "cell_type": "code",
      "source": [
        "decoded_review = ' '.join(\n",
        "[reverse_word_index.get(i - 3, '?') for i in train_data[0]])\n",
        "decoded_review"
      ],
      "metadata": {
        "colab": {
          "base_uri": "https://localhost:8080/",
          "height": 123
        },
        "id": "0g7_ez-fMyiC",
        "outputId": "8fda90a2-4c4c-46c5-dbdf-3518f719d4f2"
      },
      "execution_count": null,
      "outputs": [
        {
          "output_type": "execute_result",
          "data": {
            "text/plain": [
              "\"? this film was just brilliant casting location scenery story direction everyone's really suited the part they played and you could just imagine being there robert ? is an amazing actor and now the same being director ? father came from the same scottish island as myself so i loved the fact there was a real connection with this film the witty remarks throughout the film were great it was just brilliant so much that i bought the film as soon as it was released for ? and would recommend it to everyone to watch and the fly fishing was amazing really cried at the end it was so sad and you know what they say if you cry at a film it must have been good and this definitely was also ? to the two little boy's that played the ? of norman and paul they were just brilliant children are often left out of the ? list i think because the stars that play them all grown up are such a big profile for the whole film but these children are amazing and should be praised for what they have done don't you think the whole story was so lovely because it was true and was someone's life after all that was shared with us all\""
            ],
            "application/vnd.google.colaboratory.intrinsic+json": {
              "type": "string"
            }
          },
          "metadata": {},
          "execution_count": 9
        }
      ]
    },
    {
      "cell_type": "markdown",
      "source": [
        "Encode the train and test data into binary vector"
      ],
      "metadata": {
        "id": "UrtUS5koMo4j"
      }
    },
    {
      "cell_type": "code",
      "source": [
        "import numpy as np\n",
        "def vectorize_sequences(sequences, dimension=10000):\n",
        "  results = np.zeros((len(sequences), dimension))\n",
        "  for i, sequence in enumerate(sequences):\n",
        "    results[i, sequence] = 1.\n",
        "  return results"
      ],
      "metadata": {
        "id": "FJemLE4uNDpN"
      },
      "execution_count": null,
      "outputs": []
    },
    {
      "cell_type": "code",
      "source": [
        "X_train = vectorize_sequences(train_data)\n",
        "X_test = vectorize_sequences(test_data)"
      ],
      "metadata": {
        "id": "HAyUvKKuVHmw"
      },
      "execution_count": null,
      "outputs": []
    },
    {
      "cell_type": "code",
      "source": [
        "X_train.shape"
      ],
      "metadata": {
        "colab": {
          "base_uri": "https://localhost:8080/"
        },
        "id": "qms0Qhu5XGeG",
        "outputId": "9e4c0e2f-7097-4fa0-9100-c08c8ca4010c"
      },
      "execution_count": null,
      "outputs": [
        {
          "output_type": "execute_result",
          "data": {
            "text/plain": [
              "(25000, 10000)"
            ]
          },
          "metadata": {},
          "execution_count": 12
        }
      ]
    },
    {
      "cell_type": "code",
      "source": [
        "X_train[0]"
      ],
      "metadata": {
        "colab": {
          "base_uri": "https://localhost:8080/"
        },
        "id": "0_z0dwYyXK81",
        "outputId": "1aada6b5-7b12-46b5-c9fe-ffd4e2927c3a"
      },
      "execution_count": null,
      "outputs": [
        {
          "output_type": "execute_result",
          "data": {
            "text/plain": [
              "array([0., 1., 1., ..., 0., 0., 0.])"
            ]
          },
          "metadata": {},
          "execution_count": 13
        }
      ]
    },
    {
      "cell_type": "markdown",
      "source": [
        "change the type of the target label to float32 "
      ],
      "metadata": {
        "id": "J9v3bG9rM9wp"
      }
    },
    {
      "cell_type": "code",
      "source": [
        "y_train = train_labels.astype('float32')\n",
        "y_test =  test_labels.astype('float32')"
      ],
      "metadata": {
        "id": "vVkql2kBXYGw"
      },
      "execution_count": null,
      "outputs": []
    },
    {
      "cell_type": "code",
      "source": [
        "y_train"
      ],
      "metadata": {
        "colab": {
          "base_uri": "https://localhost:8080/"
        },
        "id": "tGd16r8yYTEY",
        "outputId": "4ef10694-3233-473b-b314-d4d6250a0088"
      },
      "execution_count": null,
      "outputs": [
        {
          "output_type": "execute_result",
          "data": {
            "text/plain": [
              "array([1., 0., 0., ..., 0., 1., 0.], dtype=float32)"
            ]
          },
          "metadata": {},
          "execution_count": 15
        }
      ]
    },
    {
      "cell_type": "markdown",
      "source": [
        "Create the deep neural network model with 2 hidden layers and 1 output layer"
      ],
      "metadata": {
        "id": "OUdMUT_aNLYV"
      }
    },
    {
      "cell_type": "code",
      "source": [
        "from keras import models\n",
        "from keras import layers\n",
        "model = models.Sequential()\n",
        "model.add(layers.Dense(16, activation='relu', input_shape=(10000,)))\n",
        "model.add(layers.Dense(16, activation='relu'))\n",
        "model.add(layers.Dense(1, activation='sigmoid'))"
      ],
      "metadata": {
        "id": "rox2C3TtYjev"
      },
      "execution_count": null,
      "outputs": []
    },
    {
      "cell_type": "code",
      "source": [
        "model.compile(optimizer='rmsprop', loss='binary_crossentropy', metrics=['accuracy'])"
      ],
      "metadata": {
        "id": "73JWKPGoyQ5Y"
      },
      "execution_count": null,
      "outputs": []
    },
    {
      "cell_type": "markdown",
      "source": [
        "or we can use the custom settings of the optimizer and loss function"
      ],
      "metadata": {
        "id": "80qquzLyyU5k"
      }
    },
    {
      "cell_type": "code",
      "source": [
        "# from keras import losses\n",
        "# from keras import metrics\n",
        "\n",
        "# model.compile(optimizer=optimizers.RMSprop(lr=0.001), \n",
        "#               loss=losses.binary_crossentropy,\n",
        "#               metrics=[metrics.binary_accuracy])"
      ],
      "metadata": {
        "id": "p1-el4RUbJXP"
      },
      "execution_count": null,
      "outputs": []
    },
    {
      "cell_type": "markdown",
      "source": [
        "Let's split the training data into 2 groups to use one group as a training set and the other as a validation set"
      ],
      "metadata": {
        "id": "X3OloL6ZNZrv"
      }
    },
    {
      "cell_type": "code",
      "source": [
        "X_val = X_train[:10000]\n",
        "partial_X_train = X_train[10000:]\n",
        "\n",
        "y_val = y_train[:10000]\n",
        "partial_y_train = y_train[10000:]"
      ],
      "metadata": {
        "id": "j6NmdK-8x5kN"
      },
      "execution_count": null,
      "outputs": []
    },
    {
      "cell_type": "code",
      "source": [
        "history = model.fit(partial_X_train, partial_y_train, epochs=20, batch_size=512, validation_data=(X_val, y_val))"
      ],
      "metadata": {
        "colab": {
          "base_uri": "https://localhost:8080/"
        },
        "id": "SzFeT7OgzmRQ",
        "outputId": "7ae847d2-e7ad-4b67-eeb5-a37cd9920984"
      },
      "execution_count": null,
      "outputs": [
        {
          "output_type": "stream",
          "name": "stdout",
          "text": [
            "Epoch 1/20\n",
            "30/30 [==============================] - 3s 43ms/step - loss: 0.5078 - accuracy: 0.7938 - val_loss: 0.4229 - val_accuracy: 0.8233\n",
            "Epoch 2/20\n",
            "30/30 [==============================] - 1s 21ms/step - loss: 0.3114 - accuracy: 0.8992 - val_loss: 0.3233 - val_accuracy: 0.8746\n",
            "Epoch 3/20\n",
            "30/30 [==============================] - 1s 21ms/step - loss: 0.2241 - accuracy: 0.9256 - val_loss: 0.2857 - val_accuracy: 0.8876\n",
            "Epoch 4/20\n",
            "30/30 [==============================] - 1s 21ms/step - loss: 0.1785 - accuracy: 0.9420 - val_loss: 0.2798 - val_accuracy: 0.8876\n",
            "Epoch 5/20\n",
            "30/30 [==============================] - 1s 21ms/step - loss: 0.1466 - accuracy: 0.9534 - val_loss: 0.2808 - val_accuracy: 0.8875\n",
            "Epoch 6/20\n",
            "30/30 [==============================] - 1s 24ms/step - loss: 0.1191 - accuracy: 0.9633 - val_loss: 0.3380 - val_accuracy: 0.8750\n",
            "Epoch 7/20\n",
            "30/30 [==============================] - 1s 20ms/step - loss: 0.1001 - accuracy: 0.9709 - val_loss: 0.3188 - val_accuracy: 0.8836\n",
            "Epoch 8/20\n",
            "30/30 [==============================] - 1s 21ms/step - loss: 0.0858 - accuracy: 0.9755 - val_loss: 0.3273 - val_accuracy: 0.8829\n",
            "Epoch 9/20\n",
            "30/30 [==============================] - 1s 24ms/step - loss: 0.0696 - accuracy: 0.9802 - val_loss: 0.3571 - val_accuracy: 0.8816\n",
            "Epoch 10/20\n",
            "30/30 [==============================] - 1s 21ms/step - loss: 0.0560 - accuracy: 0.9859 - val_loss: 0.3798 - val_accuracy: 0.8760\n",
            "Epoch 11/20\n",
            "30/30 [==============================] - 1s 21ms/step - loss: 0.0487 - accuracy: 0.9871 - val_loss: 0.4031 - val_accuracy: 0.8757\n",
            "Epoch 12/20\n",
            "30/30 [==============================] - 1s 24ms/step - loss: 0.0399 - accuracy: 0.9914 - val_loss: 0.5020 - val_accuracy: 0.8571\n",
            "Epoch 13/20\n",
            "30/30 [==============================] - 1s 20ms/step - loss: 0.0317 - accuracy: 0.9933 - val_loss: 0.4781 - val_accuracy: 0.8721\n",
            "Epoch 14/20\n",
            "30/30 [==============================] - 1s 21ms/step - loss: 0.0260 - accuracy: 0.9950 - val_loss: 0.5001 - val_accuracy: 0.8724\n",
            "Epoch 15/20\n",
            "30/30 [==============================] - 1s 20ms/step - loss: 0.0219 - accuracy: 0.9963 - val_loss: 0.5240 - val_accuracy: 0.8697\n",
            "Epoch 16/20\n",
            "30/30 [==============================] - 1s 21ms/step - loss: 0.0166 - accuracy: 0.9979 - val_loss: 0.5601 - val_accuracy: 0.8695\n",
            "Epoch 17/20\n",
            "30/30 [==============================] - 1s 21ms/step - loss: 0.0166 - accuracy: 0.9967 - val_loss: 0.5922 - val_accuracy: 0.8682\n",
            "Epoch 18/20\n",
            "30/30 [==============================] - 1s 21ms/step - loss: 0.0089 - accuracy: 0.9995 - val_loss: 0.6238 - val_accuracy: 0.8664\n",
            "Epoch 19/20\n",
            "30/30 [==============================] - 1s 24ms/step - loss: 0.0081 - accuracy: 0.9996 - val_loss: 0.6704 - val_accuracy: 0.8641\n",
            "Epoch 20/20\n",
            "30/30 [==============================] - 1s 20ms/step - loss: 0.0087 - accuracy: 0.9985 - val_loss: 0.7024 - val_accuracy: 0.8650\n"
          ]
        }
      ]
    },
    {
      "cell_type": "code",
      "source": [
        "history_dict = history.history"
      ],
      "metadata": {
        "id": "mnE0CfPg0M_c"
      },
      "execution_count": null,
      "outputs": []
    },
    {
      "cell_type": "code",
      "source": [
        "history_dict.keys()"
      ],
      "metadata": {
        "colab": {
          "base_uri": "https://localhost:8080/"
        },
        "id": "MpCv5T5J44No",
        "outputId": "df48b187-61ba-4cc0-ab19-6496054636ab"
      },
      "execution_count": null,
      "outputs": [
        {
          "output_type": "execute_result",
          "data": {
            "text/plain": [
              "dict_keys(['loss', 'accuracy', 'val_loss', 'val_accuracy'])"
            ]
          },
          "metadata": {},
          "execution_count": 22
        }
      ]
    },
    {
      "cell_type": "markdown",
      "source": [
        "plot the loss graph"
      ],
      "metadata": {
        "id": "zFjvPlxKN0N8"
      }
    },
    {
      "cell_type": "code",
      "source": [
        "import matplotlib.pyplot as plt\n",
        "history_dict = history.history\n",
        "loss_values = history_dict['loss']\n",
        "val_loss_values = history_dict['val_loss']\n",
        "epochs = range(1, len(loss_values)+1)\n",
        "plt.plot(epochs, loss_values, 'bo', label='Training loss')\n",
        "plt.plot(epochs, val_loss_values, 'b', label='Validation loss')\n",
        "plt.title('Training and validation loss')\n",
        "plt.xlabel('Epochs')\n",
        "plt.ylabel('Loss')\n",
        "plt.legend()\n",
        "plt.show()"
      ],
      "metadata": {
        "colab": {
          "base_uri": "https://localhost:8080/",
          "height": 295
        },
        "id": "0oMH6dwm4-b0",
        "outputId": "ca8511f7-7e63-4fde-8939-29f795da6980"
      },
      "execution_count": null,
      "outputs": [
        {
          "output_type": "display_data",
          "data": {
            "text/plain": [
              "<Figure size 432x288 with 1 Axes>"
            ],
            "image/png": "[encoded data removed]"
          },
          "metadata": {
            "needs_background": "light"
          }
        }
      ]
    },
    {
      "cell_type": "markdown",
      "source": [
        "plot the accuracy graph"
      ],
      "metadata": {
        "id": "tunaDmfTN7jP"
      }
    },
    {
      "cell_type": "code",
      "source": [
        "plt.clf()\n",
        "acc_values = history_dict['accuracy']\n",
        "val_acc_values = history_dict['val_accuracy']\n",
        "plt.plot(epochs, acc_values, 'bo', label='Training acc')\n",
        "plt.plot(epochs, val_acc_values, 'b', label='Validation acc')\n",
        "plt.title('Training and validation accuracy')\n",
        "plt.xlabel('Epochs')\n",
        "plt.ylabel('Loss')\n",
        "plt.legend()\n",
        "plt.show()"
      ],
      "metadata": {
        "colab": {
          "base_uri": "https://localhost:8080/",
          "height": 295
        },
        "id": "0JoAAfTN52er",
        "outputId": "3c0a98d1-911b-41fa-87f9-dff2842c15e8"
      },
      "execution_count": null,
      "outputs": [
        {
          "output_type": "display_data",
          "data": {
            "text/plain": [
              "<Figure size 432x288 with 1 Axes>"
            ],
            "image/png": "[encoded data removed]"
          },
          "metadata": {
            "needs_background": "light"
          }
        }
      ]
    },
    {
      "cell_type": "markdown",
      "source": [
        "As we can see in the above graphs, training loss decreases as the epochs increase and the accuracy increase. Howerver that isn’t the case for the validation loss and accuracy, they seem to peak at the fourth epoch. This is called overfitting.\n",
        "\n",
        "In this case, to prevent overfitting, we could stop training after three epochs.\n",
        "\n",
        "Let's create a new model"
      ],
      "metadata": {
        "id": "fvU36MxyOJ3a"
      }
    },
    {
      "cell_type": "code",
      "source": [
        "model = models.Sequential()\n",
        "model.add(layers.Dense(16, activation='relu', input_shape=(10000,)))\n",
        "model.add(layers.Dense(16, activation='relu'))\n",
        "model.add(layers.Dense(1, activation='sigmoid'))\n",
        "model.compile(optimizer='rmsprop', loss='binary_crossentropy', metrics=['accuracy'])\n",
        "model.fit(X_train, y_train, epochs=4, batch_size=512)\n",
        "results = model.evaluate(X_test, y_test)\n",
        "results"
      ],
      "metadata": {
        "colab": {
          "base_uri": "https://localhost:8080/"
        },
        "id": "tMVNe0S_-wjU",
        "outputId": "da1d5a75-458f-447a-e43a-dcc58cc38df2"
      },
      "execution_count": null,
      "outputs": [
        {
          "output_type": "stream",
          "name": "stdout",
          "text": [
            "Epoch 1/4\n",
            "49/49 [==============================] - 1s 13ms/step - loss: 0.4600 - accuracy: 0.8158\n",
            "Epoch 2/4\n",
            "49/49 [==============================] - 1s 12ms/step - loss: 0.2565 - accuracy: 0.9083\n",
            "Epoch 3/4\n",
            "49/49 [==============================] - 1s 13ms/step - loss: 0.1978 - accuracy: 0.9281\n",
            "Epoch 4/4\n",
            "49/49 [==============================] - 1s 12ms/step - loss: 0.1660 - accuracy: 0.9401\n",
            "782/782 [==============================] - 2s 3ms/step - loss: 0.3254 - accuracy: 0.8716\n"
          ]
        },
        {
          "output_type": "execute_result",
          "data": {
            "text/plain": [
              "[0.32540690898895264, 0.8715999722480774]"
            ]
          },
          "metadata": {},
          "execution_count": 29
        }
      ]
    },
    {
      "cell_type": "markdown",
      "source": [
        "Let's use our model to predict the test set"
      ],
      "metadata": {
        "id": "ECWplHupPfcY"
      }
    },
    {
      "cell_type": "code",
      "source": [
        "model.predict(X_test)"
      ],
      "metadata": {
        "colab": {
          "base_uri": "https://localhost:8080/"
        },
        "id": "Nm9qcFQi_K4z",
        "outputId": "edab14c9-ef8a-40bb-9ab8-327d2ad84e60"
      },
      "execution_count": null,
      "outputs": [
        {
          "output_type": "stream",
          "name": "stdout",
          "text": [
            "782/782 [==============================] - 2s 2ms/step\n"
          ]
        },
        {
          "output_type": "execute_result",
          "data": {
            "text/plain": [
              "array([[0.11026611],\n",
              "       [0.99990606],\n",
              "       [0.7816819 ],\n",
              "       ...,\n",
              "       [0.07086488],\n",
              "       [0.04560115],\n",
              "       [0.30306974]], dtype=float32)"
            ]
          },
          "metadata": {},
          "execution_count": 31
        }
      ]
    }
  ]
}